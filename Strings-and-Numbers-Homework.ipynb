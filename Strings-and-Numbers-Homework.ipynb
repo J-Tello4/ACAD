{
 "cells": [
  {
   "cell_type": "markdown",
   "metadata": {},
   "source": [
    "# Combined Homework Assignment: Strings and Numbers in Python\n",
    "\n",
    "This assignment integrates the concepts of string manipulation and numerical operations in Python, offering a comprehensive understanding of these fundamental topics.\n",
    "\n",
    "## Part 1: Strings\n"
   ]
  },
  {
   "cell_type": "markdown",
   "metadata": {},
   "source": [
    "### Task 1.1: Format a Personal Introduction\n",
    "\n",
    "- **Objective:** Create a Python script that uses f-string formatting.\n",
    "- **Requirements:**\n",
    "  - Define two variables: `name` (string) and `age` (integer/float).\n",
    "  - Format and print a message like: `\"My name is [name] and I am [age] years old.\"`\n"
   ]
  },
  {
   "cell_type": "code",
   "execution_count": 2,
   "metadata": {},
   "outputs": [
    {
     "name": "stdout",
     "output_type": "stream",
     "text": [
      "My name is Jeff and I am 24.0 years old.\n"
     ]
    }
   ],
   "source": [
    "# Task 1.1\n",
    "\n",
    "name = \"Jeff\"\n",
    "\n",
    "age = float(int(24))\n",
    "\n",
    "print(f\"My name is {name} and I am {age} years old.\")\n",
    "\n"
   ]
  },
  {
   "cell_type": "markdown",
   "metadata": {},
   "source": [
    "### Task 1.2: Build a Simple Text Processor\n",
    "\n",
    "- **Objective:** Develop a program to process text input.\n",
    "- **Requirements:**\n",
    "  - Prompt for a sentence input.\n",
    "  - Count and print the number of words.\n",
    "  - Replace a specified word and print the new sentence.\n"
   ]
  },
  {
   "cell_type": "code",
   "execution_count": 25,
   "metadata": {},
   "outputs": [
    {
     "name": "stdout",
     "output_type": "stream",
     "text": [
      "42\n",
      "I love my German/ Australian Shepherd Mix Dog\n"
     ]
    }
   ],
   "source": [
    "# Task 1.2\n",
    "\n",
    "sentnece = \"I love my Border Collie/ Australian Shepherd Mix Dog\"\n",
    "\n",
    "word_count = len(sentence)\n",
    "\n",
    "print(word_count)\n",
    "\n",
    "\n",
    "sentence2 = sentnece.replace(\"Border Collie\", \"German\")\n",
    "\n",
    "\n",
    "print(sentence2)\n",
    "\n",
    "\n"
   ]
  },
  {
   "cell_type": "markdown",
   "metadata": {},
   "source": [
    "### Task 1.3: Explore Escape Characters\n",
    "\n",
    "- **Objective:** Understand the use of escape characters in strings.\n",
    "- **Requirements:**\n",
    "  - Create a string with quotes, a newline, and a tab space.\n",
    "  - Print the string to demonstrate escape characters.\n"
   ]
  },
  {
   "cell_type": "code",
   "execution_count": 12,
   "metadata": {},
   "outputs": [
    {
     "name": "stdout",
     "output_type": "stream",
     "text": [
      "'Lets go \tto the \n",
      "YMCA\n"
     ]
    }
   ],
   "source": [
    "# Task 1.3\n",
    "sentence_line = \"\\'Lets go \\tto the \\nYMCA\"\n",
    "\n",
    "print(sentence_line)\n",
    "\n"
   ]
  },
  {
   "cell_type": "markdown",
   "metadata": {},
   "source": [
    "## Part 2: Numbers\n"
   ]
  },
  {
   "cell_type": "markdown",
   "metadata": {},
   "source": [
    "### Task 2.1: Calculator Program\n",
    "\n",
    "- **Objective:** Develop a basic calculator.\n",
    "- **Requirements:**\n",
    "  - Input two numbers from the user.\n",
    "  - Choose an operation (add, subtract, multiply, divide).\n",
    "  - Perform and print the result of the operation.\n"
   ]
  },
  {
   "cell_type": "code",
   "execution_count": 5,
   "metadata": {},
   "outputs": [
    {
     "name": "stdout",
     "output_type": "stream",
     "text": [
      "Pick two numbers between one through 10\n",
      "24\n"
     ]
    }
   ],
   "source": [
    "# Task 2.1\n",
    "\n",
    "import math\n",
    "\n",
    "print(\"Pick two numbers between one through 10\")\n",
    "\n",
    "number_1 = int(input(\"Enter the first number:\"))\n",
    "\n",
    "number_2 = int(input(\"Enter the second number:\"))\n",
    "\n",
    "print(number_1 * number_2)\n",
    "\n"
   ]
  },
  {
   "cell_type": "markdown",
   "metadata": {},
   "source": [
    "### Task 2.2: Explore the Random Module\n",
    "\n",
    "- **Objective:** Utilize the `random` module.\n",
    "- **Requirements:**\n",
    "  - Generate and print 5 random integers between 1 and 100.\n"
   ]
  },
  {
   "cell_type": "code",
   "execution_count": 6,
   "metadata": {},
   "outputs": [
    {
     "name": "stdout",
     "output_type": "stream",
     "text": [
      "54\n",
      "22\n",
      "15\n",
      "57\n",
      "5\n"
     ]
    }
   ],
   "source": [
    "# Task 2.2\n",
    "\n",
    "import random   \n",
    "\n",
    "print(random.randint(1,100))\n",
    "\n",
    "print(random.randint(1,100))\n",
    "print(random.randint(1,100))\n",
    "print(random.randint(1,100))\n",
    "print(random.randint(1,100))\n",
    "\n"
   ]
  },
  {
   "cell_type": "markdown",
   "metadata": {},
   "source": [
    "### Task 2.3: Infinite and NaN (Not a Number) Concepts\n",
    "\n",
    "- **Objective:** Demonstrate the use of infinity and NaN in Python.\n",
    "- **Requirements:**\n",
    "  - Show how to create and use infinite and NaN values.\n",
    "  - Test and identify if a variable contains these values.\n"
   ]
  },
  {
   "cell_type": "code",
   "execution_count": 9,
   "metadata": {},
   "outputs": [
    {
     "name": "stdout",
     "output_type": "stream",
     "text": [
      "inf\n",
      "nan\n"
     ]
    }
   ],
   "source": [
    "# Task 2.3\n",
    "import math\n",
    "\n",
    "print(math.inf)\n",
    "\n",
    "print(math.nan)\n"
   ]
  },
  {
   "cell_type": "markdown",
   "metadata": {},
   "source": [
    "## Additional Challenges\n",
    "\n",
    "For a more comprehensive understanding, try the following:\n"
   ]
  },
  {
   "cell_type": "markdown",
   "metadata": {},
   "source": [
    "- **Challenge 1 (Strings):** Write a program that reverses the user's input sentence and prints it.\n"
   ]
  },
  {
   "cell_type": "code",
   "execution_count": 14,
   "metadata": {},
   "outputs": [
    {
     "name": "stdout",
     "output_type": "stream",
     "text": [
      ".sdaor eht rof ehcsroP lufrewop tsom eht SR 2TG 119 wen eht ekam ot ,saw evitcejbo rieht tahw yltcaxe wenk sreenigne eshcrop ehT\n"
     ]
    }
   ],
   "source": [
    "# Challenge 1\n",
    "\n",
    "sentence = \"The porchse engineers knew exactly what their objective was, to make the new 911 GT2 RS the most powerful Porsche for the roads.\"[:: -1]\n",
    "\n",
    "print(sentence)\n",
    "\n"
   ]
  },
  {
   "cell_type": "markdown",
   "metadata": {},
   "source": [
    "- **Challenge 2 (Numbers):** Create a script that calculates and prints the factorial of a number provided by the user.\n"
   ]
  },
  {
   "cell_type": "code",
   "execution_count": 15,
   "metadata": {},
   "outputs": [
    {
     "name": "stdout",
     "output_type": "stream",
     "text": [
      "5040\n"
     ]
    }
   ],
   "source": [
    "# Challenge 2\n",
    "import math\n",
    "print(math.factorial(7))\n",
    "\n",
    "\n"
   ]
  }
 ],
 "metadata": {
  "kernelspec": {
   "display_name": "Python 3",
   "language": "python",
   "name": "python3"
  },
  "language_info": {
   "codemirror_mode": {
    "name": "ipython",
    "version": 3
   },
   "file_extension": ".py",
   "mimetype": "text/x-python",
   "name": "python",
   "nbconvert_exporter": "python",
   "pygments_lexer": "ipython3",
   "version": "3.12.6"
  }
 },
 "nbformat": 4,
 "nbformat_minor": 2
}
